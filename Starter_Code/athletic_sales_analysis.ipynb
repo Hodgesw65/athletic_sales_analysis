{
 "cells": [
  {
   "cell_type": "code",
   "execution_count": 1,
   "metadata": {},
   "outputs": [],
   "source": [
    "# Import Libraries and Dependencies\n",
    "import pandas as pd"
   ]
  },
  {
   "cell_type": "code",
   "execution_count": 2,
   "metadata": {},
   "outputs": [],
   "source": [
    "# Read the CSV files into DataFrames.\n",
    "csv_path_2020 = 'Resources/athletic_sales_2020.csv'\n",
    "csv_path_2021 = 'Resources/athletic_sales_2021.csv'\n",
    "\n"
   ]
  },
  {
   "cell_type": "code",
   "execution_count": 3,
   "metadata": {},
   "outputs": [
    {
     "name": "stdout",
     "output_type": "stream",
     "text": [
      "         retailer  retailer_id invoice_date     region         state  \\\n",
      "0     Foot Locker      1185732       1/1/20  Northeast      New York   \n",
      "1     Foot Locker      1185732       1/1/20  Northeast  Pennsylvania   \n",
      "2     Foot Locker      1185732       1/1/20  Northeast  Pennsylvania   \n",
      "3     Foot Locker      1185732       1/1/20  Northeast      New York   \n",
      "4     Foot Locker      1185732       1/1/20  Northeast  Pennsylvania   \n",
      "...           ...          ...          ...        ...           ...   \n",
      "1292    West Gear      1128299     12/30/20       West    California   \n",
      "1293    West Gear      1128299     12/30/20       West    California   \n",
      "1294       Kohl's      1189833     12/30/20    Midwest     Minnesota   \n",
      "1295       Kohl's      1189833     12/30/20    Midwest     Minnesota   \n",
      "1296    West Gear      1128299     12/30/20       West    California   \n",
      "\n",
      "               city                  product  price_per_unit  units_sold  \\\n",
      "0          New York    Men's Street Footwear              50        1200   \n",
      "1      Philadelphia          Women's Apparel              68          83   \n",
      "2      Philadelphia          Women's Apparel              75         275   \n",
      "3          New York    Men's Street Footwear              34         384   \n",
      "4      Philadelphia          Women's Apparel              53          83   \n",
      "...             ...                      ...             ...         ...   \n",
      "1292  San Francisco          Women's Apparel              72         203   \n",
      "1293  San Francisco          Women's Apparel              80         700   \n",
      "1294    Minneapolis  Women's Street Footwear              41         119   \n",
      "1295    Minneapolis  Women's Street Footwear              45         475   \n",
      "1296  San Francisco          Women's Apparel              62         245   \n",
      "\n",
      "      total_sales  operating_profit sales_method  \n",
      "0          600000         300000.00     In-store  \n",
      "1            5644           2426.92       Online  \n",
      "2          206250          61875.00       Outlet  \n",
      "3           13056           6789.12       Outlet  \n",
      "4            4399           1407.68       Outlet  \n",
      "...           ...               ...          ...  \n",
      "1292        14616           3946.32       Online  \n",
      "1293       560000          84000.00       Outlet  \n",
      "1294         4879           2878.61       Online  \n",
      "1295       213750          96187.50       Outlet  \n",
      "1296        15190           2886.10       Outlet  \n",
      "\n",
      "[1297 rows x 12 columns]\n"
     ]
    }
   ],
   "source": [
    "# Display the 2020 sales DataFrame\n",
    "df_athletic_sales_2020 = pd.read_csv(csv_path_2020)\n",
    "print(df_athletic_sales_2020)"
   ]
  },
  {
   "cell_type": "code",
   "execution_count": 4,
   "metadata": {},
   "outputs": [
    {
     "name": "stdout",
     "output_type": "stream",
     "text": [
      "         retailer  retailer_id invoice_date     region         state  \\\n",
      "0       West Gear      1128299       1/1/21       West    California   \n",
      "1       West Gear      1128299       1/1/21       West    California   \n",
      "2          Kohl's      1189833       1/1/21    Midwest       Montana   \n",
      "3          Kohl's      1189833       1/1/21    Midwest       Montana   \n",
      "4       West Gear      1128299       1/1/21       West    California   \n",
      "...           ...          ...          ...        ...           ...   \n",
      "8341  Foot Locker      1185732     12/31/21  Northeast  Pennsylvania   \n",
      "8342  Foot Locker      1185732     12/31/21  Northeast  Pennsylvania   \n",
      "8343       Amazon      1185732     12/31/21  Northeast         Maine   \n",
      "8344       Amazon      1185732     12/31/21  Northeast         Maine   \n",
      "8345  Foot Locker      1185732     12/31/21  Northeast  Pennsylvania   \n",
      "\n",
      "               city                  product  price_per_unit  units_sold  \\\n",
      "0     San Francisco  Men's Athletic Footwear              65         750   \n",
      "1     San Francisco  Men's Athletic Footwear              51         233   \n",
      "2          Billings            Men's Apparel              50         275   \n",
      "3          Billings            Men's Apparel              47          77   \n",
      "4     San Francisco  Men's Athletic Footwear              64         225   \n",
      "...             ...                      ...             ...         ...   \n",
      "8341   Philadelphia            Men's Apparel              63          47   \n",
      "8342   Philadelphia            Men's Apparel              46          56   \n",
      "8343       Portland            Men's Apparel              52          36   \n",
      "8344       Portland            Men's Apparel              55         125   \n",
      "8345   Philadelphia            Men's Apparel              70         175   \n",
      "\n",
      "      total_sales  operating_profit sales_method  \n",
      "0          487500         121875.00       Outlet  \n",
      "1           11883           3208.41       Outlet  \n",
      "2          137500          82500.00       Outlet  \n",
      "3            3619           2714.25       Online  \n",
      "4           14400           5184.00       Online  \n",
      "...           ...               ...          ...  \n",
      "8341         2961           1362.06       Online  \n",
      "8342         2576           1004.64       Outlet  \n",
      "8343         1872            692.64       Online  \n",
      "8344        68750          17187.50       Outlet  \n",
      "8345       122500          42875.00       Outlet  \n",
      "\n",
      "[8346 rows x 12 columns]\n"
     ]
    }
   ],
   "source": [
    "# Display the 2021 sales DataFrame\n",
    "df_athletic_sales_2021 = pd.read_csv(csv_path_2021)\n",
    "print(df_athletic_sales_2021)"
   ]
  },
  {
   "cell_type": "markdown",
   "metadata": {},
   "source": [
    "#### Check the data types of each DataFrame"
   ]
  },
  {
   "cell_type": "code",
   "execution_count": 5,
   "metadata": {},
   "outputs": [
    {
     "name": "stdout",
     "output_type": "stream",
     "text": [
      "retailer             object\n",
      "retailer_id           int64\n",
      "invoice_date         object\n",
      "region               object\n",
      "state                object\n",
      "city                 object\n",
      "product              object\n",
      "price_per_unit        int64\n",
      "units_sold            int64\n",
      "total_sales           int64\n",
      "operating_profit    float64\n",
      "sales_method         object\n",
      "dtype: object\n"
     ]
    }
   ],
   "source": [
    "# Check the 2020 sales data types.\n",
    "data_types_2020 = df_athletic_sales_2020.dtypes\n",
    "print(data_types_2020)"
   ]
  },
  {
   "cell_type": "code",
   "execution_count": 6,
   "metadata": {},
   "outputs": [
    {
     "name": "stdout",
     "output_type": "stream",
     "text": [
      "retailer             object\n",
      "retailer_id           int64\n",
      "invoice_date         object\n",
      "region               object\n",
      "state                object\n",
      "city                 object\n",
      "product              object\n",
      "price_per_unit        int64\n",
      "units_sold            int64\n",
      "total_sales           int64\n",
      "operating_profit    float64\n",
      "sales_method         object\n",
      "dtype: object\n"
     ]
    }
   ],
   "source": [
    "# Check the 2021 sales data types.\n",
    "data_types_2021 = df_athletic_sales_2021.dtypes\n",
    "print(data_types_2021)"
   ]
  },
  {
   "cell_type": "markdown",
   "metadata": {},
   "source": [
    "#### Combine the sales data by rows."
   ]
  },
  {
   "cell_type": "code",
   "execution_count": 7,
   "metadata": {},
   "outputs": [
    {
     "name": "stdout",
     "output_type": "stream",
     "text": [
      "Combined DataFrame of 2020 and 2021 sales:\n",
      "         retailer  retailer_id invoice_date     region         state  \\\n",
      "0     Foot Locker      1185732       1/1/20  Northeast      New York   \n",
      "1     Foot Locker      1185732       1/1/20  Northeast  Pennsylvania   \n",
      "2     Foot Locker      1185732       1/1/20  Northeast  Pennsylvania   \n",
      "3     Foot Locker      1185732       1/1/20  Northeast      New York   \n",
      "4     Foot Locker      1185732       1/1/20  Northeast  Pennsylvania   \n",
      "...           ...          ...          ...        ...           ...   \n",
      "9638  Foot Locker      1185732     12/31/21  Northeast  Pennsylvania   \n",
      "9639  Foot Locker      1185732     12/31/21  Northeast  Pennsylvania   \n",
      "9640       Amazon      1185732     12/31/21  Northeast         Maine   \n",
      "9641       Amazon      1185732     12/31/21  Northeast         Maine   \n",
      "9642  Foot Locker      1185732     12/31/21  Northeast  Pennsylvania   \n",
      "\n",
      "              city                product  price_per_unit  units_sold  \\\n",
      "0         New York  Men's Street Footwear              50        1200   \n",
      "1     Philadelphia        Women's Apparel              68          83   \n",
      "2     Philadelphia        Women's Apparel              75         275   \n",
      "3         New York  Men's Street Footwear              34         384   \n",
      "4     Philadelphia        Women's Apparel              53          83   \n",
      "...            ...                    ...             ...         ...   \n",
      "9638  Philadelphia          Men's Apparel              63          47   \n",
      "9639  Philadelphia          Men's Apparel              46          56   \n",
      "9640      Portland          Men's Apparel              52          36   \n",
      "9641      Portland          Men's Apparel              55         125   \n",
      "9642  Philadelphia          Men's Apparel              70         175   \n",
      "\n",
      "      total_sales  operating_profit sales_method  \n",
      "0          600000         300000.00     In-store  \n",
      "1            5644           2426.92       Online  \n",
      "2          206250          61875.00       Outlet  \n",
      "3           13056           6789.12       Outlet  \n",
      "4            4399           1407.68       Outlet  \n",
      "...           ...               ...          ...  \n",
      "9638         2961           1362.06       Online  \n",
      "9639         2576           1004.64       Outlet  \n",
      "9640         1872            692.64       Online  \n",
      "9641        68750          17187.50       Outlet  \n",
      "9642       122500          42875.00       Outlet  \n",
      "\n",
      "[9643 rows x 12 columns]\n"
     ]
    }
   ],
   "source": [
    "# Combine the 2020 and 2021 sales DataFrames on the rows and reset the index.\n",
    "combined_sales_df = pd.concat([df_athletic_sales_2020, df_athletic_sales_2021], ignore_index=True)\n",
    "print(\"Combined DataFrame of 2020 and 2021 sales:\")\n",
    "print(combined_sales_df)"
   ]
  },
  {
   "cell_type": "code",
   "execution_count": 8,
   "metadata": {},
   "outputs": [
    {
     "name": "stdout",
     "output_type": "stream",
     "text": [
      "No null values found in the DataFrame.\n"
     ]
    }
   ],
   "source": [
    "# Check if any values are null.\n",
    "null_values = combined_sales_df.isnull().any()\n",
    "if null_values.any():\n",
    "    print(\"Columns with null values:\")\n",
    "    print(null_values[null_values])\n",
    "else:\n",
    "    print(\"No null values found in the DataFrame.\")"
   ]
  },
  {
   "cell_type": "code",
   "execution_count": 9,
   "metadata": {},
   "outputs": [
    {
     "name": "stdout",
     "output_type": "stream",
     "text": [
      "Data types of each column:\n",
      "retailer             object\n",
      "retailer_id           int64\n",
      "invoice_date         object\n",
      "region               object\n",
      "state                object\n",
      "city                 object\n",
      "product              object\n",
      "price_per_unit        int64\n",
      "units_sold            int64\n",
      "total_sales           int64\n",
      "operating_profit    float64\n",
      "sales_method         object\n",
      "dtype: object\n"
     ]
    }
   ],
   "source": [
    "# Check the data type of each column\n",
    "combined_data_types = combined_sales_df.dtypes\n",
    "print(\"Data types of each column:\")\n",
    "print(combined_data_types)"
   ]
  },
  {
   "cell_type": "code",
   "execution_count": 10,
   "metadata": {},
   "outputs": [
    {
     "name": "stdout",
     "output_type": "stream",
     "text": [
      "Data types after conversion:\n",
      "retailer                    object\n",
      "retailer_id                  int64\n",
      "invoice_date        datetime64[ns]\n",
      "region                      object\n",
      "state                       object\n",
      "city                        object\n",
      "product                     object\n",
      "price_per_unit               int64\n",
      "units_sold                   int64\n",
      "total_sales                  int64\n",
      "operating_profit           float64\n",
      "sales_method                object\n",
      "dtype: object\n"
     ]
    },
    {
     "name": "stderr",
     "output_type": "stream",
     "text": [
      "/var/folders/sj/46t_7wwd1cqfczx_tnc7_vpm0000gn/T/ipykernel_38854/355177247.py:2: UserWarning: Could not infer format, so each element will be parsed individually, falling back to `dateutil`. To ensure parsing is consistent and as-expected, please specify a format.\n",
      "  combined_sales_df['invoice_date'] = pd.to_datetime(combined_sales_df['invoice_date'])\n"
     ]
    }
   ],
   "source": [
    "# Convert the \"invoice_date\" to a datetime datatype\n",
    "combined_sales_df['invoice_date'] = pd.to_datetime(combined_sales_df['invoice_date'])\n",
    "print(\"Data types after conversion:\")\n",
    "print(combined_sales_df.dtypes)"
   ]
  },
  {
   "cell_type": "code",
   "execution_count": 11,
   "metadata": {},
   "outputs": [
    {
     "name": "stdout",
     "output_type": "stream",
     "text": [
      "Data types after conversion:\n",
      "retailer                    object\n",
      "retailer_id                  int64\n",
      "invoice_date        datetime64[ns]\n",
      "region                      object\n",
      "state                       object\n",
      "city                        object\n",
      "product                     object\n",
      "price_per_unit               int64\n",
      "units_sold                   int64\n",
      "total_sales                  int64\n",
      "operating_profit           float64\n",
      "sales_method                object\n",
      "dtype: object\n"
     ]
    }
   ],
   "source": [
    "# Confirm that the \"invoice_date\" data type has been changed.\n",
    "combined_sales_df['invoice_date'] = pd.to_datetime(combined_sales_df['invoice_date'])\n",
    "print(\"Data types after conversion:\")\n",
    "print(combined_sales_df.dtypes)"
   ]
  },
  {
   "cell_type": "markdown",
   "metadata": {},
   "source": [
    "### 2. Determine which Region Sold the Most Products"
   ]
  },
  {
   "cell_type": "markdown",
   "metadata": {},
   "source": [
    "#### Using `groupby`"
   ]
  },
  {
   "cell_type": "code",
   "execution_count": 12,
   "metadata": {},
   "outputs": [
    {
     "name": "stdout",
     "output_type": "stream",
     "text": [
      "Top 5 results - Number of products sold for region, state, and city:\n",
      "       region      state           city  Total_Products_Sold\n",
      "27      South   Arkansas    Little Rock                  216\n",
      "40  Southeast   Virginia       Richmond                  216\n",
      "32      South      Texas         Dallas                  216\n",
      "31      South  Tennessee      Knoxville                  216\n",
      "30      South   Oklahoma  Oklahoma City                  216\n"
     ]
    }
   ],
   "source": [
    "# Show the number products sold for region, state, and city.\n",
    "# Rename the sum to \"Total_Products_Sold\".\n",
    "products_grouped_df = combined_sales_df.groupby(['region', 'state', 'city']).size().reset_index(name='Total_Products_Sold')\n",
    "\n",
    "# Show the top 5 results.\n",
    "products_top_5_results = products_grouped_df.sort_values(by='Total_Products_Sold', ascending=False).head(5)\n",
    "print(\"Top 5 results - Number of products sold for region, state, and city:\")\n",
    "print(products_top_5_results)"
   ]
  },
  {
   "cell_type": "markdown",
   "metadata": {},
   "source": [
    "#### Using `pivot_table`"
   ]
  },
  {
   "cell_type": "code",
   "execution_count": 13,
   "metadata": {},
   "outputs": [
    {
     "name": "stdout",
     "output_type": "stream",
     "text": [
      "Top 5 results - Number of products sold for region, state, and city:\n",
      "                                    Total_Products_Sold\n",
      "region    state      city                              \n",
      "Northeast New York   New York                    111954\n",
      "South     Texas      Houston                      90322\n",
      "West      California San Francisco                85478\n",
      "                     Los Angeles                  76384\n",
      "Southeast Florida    Miami                        73135\n"
     ]
    }
   ],
   "source": [
    "# Show the number products sold for region, state, and city.\n",
    "products_pivot_table = pd.pivot_table(combined_sales_df, \n",
    "                             values='units_sold', \n",
    "                             index=['region', 'state', 'city'], \n",
    "                             aggfunc='sum')\n",
    "\n",
    "# Rename the \"units_sold\" column to \"Total_Products_Sold\"\n",
    "pivot_table = products_pivot_table.rename(columns={'units_sold': 'Total_Products_Sold'})\n",
    "\n",
    "# Show the top 5 results.\n",
    "top_5_results = pivot_table.sort_values(by='Total_Products_Sold', ascending=False).head(5)\n",
    "print(\"Top 5 results - Number of products sold for region, state, and city:\")\n",
    "print(top_5_results)"
   ]
  },
  {
   "cell_type": "markdown",
   "metadata": {},
   "source": [
    "### 3. Determine which Region had the Most Sales"
   ]
  },
  {
   "cell_type": "markdown",
   "metadata": {},
   "source": [
    "#### Using `groupby`"
   ]
  },
  {
   "cell_type": "code",
   "execution_count": 14,
   "metadata": {},
   "outputs": [
    {
     "name": "stdout",
     "output_type": "stream",
     "text": [
      "Total sales for products sold in each region, state, and city:\n",
      "       region           state           city  Total Sales\n",
      "21  Northeast        New York       New York     39801235\n",
      "44       West      California  San Francisco     33973228\n",
      "34  Southeast         Florida          Miami     31600863\n",
      "39  Southeast  South Carolina     Charleston     29285637\n",
      "35  Southeast         Florida        Orlando     27682851\n"
     ]
    }
   ],
   "source": [
    "# Show the total sales for the products sold for each region, state, and city.\n",
    "# Rename the \"total_sales\" column to \"Total Sales\"\n",
    "units_sold_df = combined_sales_df.groupby(['region', 'state', 'city'])['total_sales'].sum().reset_index(name='Total Sales')\n",
    "\n",
    "# Show the top 5 results.\n",
    "top_5_sales = units_sold_df.nlargest(5, 'Total Sales')\n",
    "print(\"Total sales for products sold in each region, state, and city:\")\n",
    "print(top_5_sales)"
   ]
  },
  {
   "cell_type": "markdown",
   "metadata": {},
   "source": [
    "#### Using `pivot_table`"
   ]
  },
  {
   "cell_type": "code",
   "execution_count": 15,
   "metadata": {},
   "outputs": [
    {
     "name": "stdout",
     "output_type": "stream",
     "text": [
      "       region           state           city  Total Sales\n",
      "21  Northeast        New York       New York     39801235\n",
      "44       West      California  San Francisco     33973228\n",
      "34  Southeast         Florida          Miami     31600863\n",
      "39  Southeast  South Carolina     Charleston     29285637\n",
      "35  Southeast         Florida        Orlando     27682851\n"
     ]
    }
   ],
   "source": [
    "# Show the total sales for the products sold for each region, state, and city.\n",
    "pivot_df = pd.pivot_table(combined_sales_df, values='total_sales', \n",
    "                          index=['region', 'state', 'city'], \n",
    "                          aggfunc='sum').reset_index()\n",
    "\n",
    "# Optional: Rename the \"total_sales\" column to \"Total Sales\"\n",
    "pivot_df = pivot_df.rename(columns={'total_sales': 'Total Sales'})\n",
    "\n",
    "# Show the top 5 results.\n",
    "top_5_sales = pivot_df.nlargest(5, 'Total Sales')\n",
    "print(top_5_sales)"
   ]
  },
  {
   "cell_type": "markdown",
   "metadata": {},
   "source": [
    "### 4. Determine which Retailer had the Most Sales"
   ]
  },
  {
   "cell_type": "markdown",
   "metadata": {},
   "source": [
    "#### Using `groupby`"
   ]
  },
  {
   "cell_type": "code",
   "execution_count": 16,
   "metadata": {},
   "outputs": [
    {
     "name": "stdout",
     "output_type": "stream",
     "text": [
      "        retailer     region           state           city  Total Sales\n",
      "103    West Gear       West      California  San Francisco     32794405\n",
      "50        Kohl's       West      California    Los Angeles     25127160\n",
      "22   Foot Locker  Northeast        New York       New York     25008568\n",
      "109    West Gear       West      Washington        Seattle     24862675\n",
      "33   Foot Locker  Southeast  South Carolina     Charleston     24822280\n"
     ]
    }
   ],
   "source": [
    "# Show the total sales for the products sold for each retailer, region, state, and city.\n",
    "# Rename the \"total_sales\" column to \"Total Sales\"\n",
    "grouped_sales = combined_sales_df.groupby(['retailer', 'region', 'state', 'city'])['total_sales'].sum().reset_index()\n",
    "grouped_sales = grouped_sales.rename(columns={'total_sales': 'Total Sales'})\n",
    "\n",
    "# Show the top 5 results.\n",
    "top_5_sales = grouped_sales.nlargest(5, 'Total Sales')\n",
    "print(top_5_sales)"
   ]
  },
  {
   "cell_type": "markdown",
   "metadata": {},
   "source": [
    "#### Using `pivot_table`"
   ]
  },
  {
   "cell_type": "code",
   "execution_count": 17,
   "metadata": {},
   "outputs": [
    {
     "name": "stdout",
     "output_type": "stream",
     "text": [
      "        retailer     region           state           city  Total Sales\n",
      "103    West Gear       West      California  San Francisco     32794405\n",
      "50        Kohl's       West      California    Los Angeles     25127160\n",
      "22   Foot Locker  Northeast        New York       New York     25008568\n",
      "109    West Gear       West      Washington        Seattle     24862675\n",
      "33   Foot Locker  Southeast  South Carolina     Charleston     24822280\n"
     ]
    }
   ],
   "source": [
    "# Show the total sales for the products sold for each retailer, region, state, and city.\n",
    "pivot_df = pd.pivot_table(combined_sales_df, \n",
    "                          values='total_sales', \n",
    "                          index=['retailer', 'region', 'state', 'city'], \n",
    "                          aggfunc='sum').reset_index()\n",
    "\n",
    "# Optional: Rename the \"total_sales\" column to \"Total Sales\"\n",
    "pivot_df = pivot_df.rename(columns={'total_sales': 'Total Sales'})\n",
    "\n",
    "# Show the top 5 results.\n",
    "top_5_sales = pivot_df.nlargest(5, 'Total Sales')\n",
    "print(top_5_sales)"
   ]
  },
  {
   "cell_type": "markdown",
   "metadata": {},
   "source": [
    "### 5. Determine which Retailer Sold the Most Women's Athletic Footwear"
   ]
  },
  {
   "cell_type": "code",
   "execution_count": 18,
   "metadata": {},
   "outputs": [
    {
     "name": "stdout",
     "output_type": "stream",
     "text": [
      "         retailer  retailer_id invoice_date     region         state  \\\n",
      "21    Foot Locker      1185732   2020-01-04  Northeast      New York   \n",
      "22    Foot Locker      1185732   2020-01-04  Northeast      New York   \n",
      "23    Foot Locker      1185732   2020-01-04  Northeast      New York   \n",
      "26      West Gear      1128299   2020-01-05  Northeast  Pennsylvania   \n",
      "27      West Gear      1128299   2020-01-05  Northeast  Pennsylvania   \n",
      "...           ...          ...          ...        ...           ...   \n",
      "9633  Foot Locker      1185732   2021-12-30  Northeast  Pennsylvania   \n",
      "9634  Foot Locker      1185732   2021-12-30  Northeast  Pennsylvania   \n",
      "9635       Amazon      1185732   2021-12-30  Northeast         Maine   \n",
      "9636       Amazon      1185732   2021-12-30  Northeast         Maine   \n",
      "9637  Foot Locker      1185732   2021-12-30  Northeast  Pennsylvania   \n",
      "\n",
      "              city                    product  price_per_unit  units_sold  \\\n",
      "21        New York  Women's Athletic Footwear              36         281   \n",
      "22        New York  Women's Athletic Footwear              41         247   \n",
      "23        New York  Women's Athletic Footwear              45         850   \n",
      "26    Philadelphia  Women's Athletic Footwear              45         300   \n",
      "27    Philadelphia  Women's Athletic Footwear              34          90   \n",
      "...            ...                        ...             ...         ...   \n",
      "9633  Philadelphia  Women's Athletic Footwear              57          53   \n",
      "9634  Philadelphia  Women's Athletic Footwear              40          53   \n",
      "9635      Portland  Women's Athletic Footwear              42          36   \n",
      "9636      Portland  Women's Athletic Footwear              45         125   \n",
      "9637  Philadelphia  Women's Athletic Footwear              60         175   \n",
      "\n",
      "      total_sales  operating_profit sales_method  \n",
      "21          10116           3742.92       Outlet  \n",
      "22          10127           4658.42       Online  \n",
      "23         382500         133875.00     In-store  \n",
      "26         135000          47250.00       Outlet  \n",
      "27           3060           1254.60       Outlet  \n",
      "...           ...               ...          ...  \n",
      "9633         3021           1601.13       Online  \n",
      "9634         2120            954.00       Outlet  \n",
      "9635         1512            680.40       Online  \n",
      "9636        56250          16875.00       Outlet  \n",
      "9637       105000          42000.00       Outlet  \n",
      "\n",
      "[1604 rows x 12 columns]\n"
     ]
    }
   ],
   "source": [
    "# Filter the sales data to get the women's athletic footwear sales data.\n",
    "womens_athletic_footwear_sales = combined_sales_df[combined_sales_df['product'].str.contains(\"Women's Athletic Footwear\")]\n",
    "print(womens_athletic_footwear_sales)\n"
   ]
  },
  {
   "cell_type": "markdown",
   "metadata": {},
   "source": [
    "#### Using `groupby`"
   ]
  },
  {
   "cell_type": "code",
   "execution_count": 19,
   "metadata": {},
   "outputs": [
    {
     "name": "stdout",
     "output_type": "stream",
     "text": [
      "          retailer     region           state           city  \\\n",
      "101      West Gear       West      California  San Francisco   \n",
      "22     Foot Locker  Northeast        New York       New York   \n",
      "49          Kohl's       West      California    Los Angeles   \n",
      "33     Foot Locker  Southeast  South Carolina     Charleston   \n",
      "68   Sports Direct      South           Texas         Dallas   \n",
      "\n",
      "     Womens_Footwear_Units_Sold  \n",
      "101                       12107  \n",
      "22                        10996  \n",
      "49                        10826  \n",
      "33                         8814  \n",
      "68                         8790  \n"
     ]
    }
   ],
   "source": [
    "# Show the total number of women's athletic footwear sold for each retailer, region, state, and city.\n",
    "# Rename the \"units_sold\" column to \"Womens_Footwear_Units_Sold\"\n",
    "grouped_sales = womens_athletic_footwear_sales.groupby(['retailer', 'region', 'state', 'city'])['units_sold'].sum().reset_index()\n",
    "grouped_sales = grouped_sales.rename(columns={'units_sold': 'Womens_Footwear_Units_Sold'})\n",
    "\n",
    "# Show the top 5 results.\n",
    "top_5_results = grouped_sales.nlargest(5, 'Womens_Footwear_Units_Sold')\n",
    "print(top_5_results)"
   ]
  },
  {
   "cell_type": "markdown",
   "metadata": {},
   "source": [
    "#### Using `pivot_table`"
   ]
  },
  {
   "cell_type": "code",
   "execution_count": 20,
   "metadata": {},
   "outputs": [
    {
     "name": "stdout",
     "output_type": "stream",
     "text": [
      "          retailer     region           state           city  \\\n",
      "101      West Gear       West      California  San Francisco   \n",
      "22     Foot Locker  Northeast        New York       New York   \n",
      "49          Kohl's       West      California    Los Angeles   \n",
      "33     Foot Locker  Southeast  South Carolina     Charleston   \n",
      "68   Sports Direct      South           Texas         Dallas   \n",
      "\n",
      "     Womens_Footwear_Units_Sold  \n",
      "101                       12107  \n",
      "22                        10996  \n",
      "49                        10826  \n",
      "33                         8814  \n",
      "68                         8790  \n"
     ]
    }
   ],
   "source": [
    "# Show the total number of women's athletic footwear sold for each retailer, region, state, and city.\n",
    "pivot_df = pd.pivot_table(womens_athletic_footwear_sales, \n",
    "                          values='units_sold', \n",
    "                          index=['retailer', 'region', 'state', 'city'], \n",
    "                          aggfunc='sum').reset_index()\n",
    "\n",
    "# Rename the \"units_sold\" column to \"Womens_Footwear_Units_Sold\"\n",
    "pivot_df = pivot_df.rename(columns={'units_sold': 'Womens_Footwear_Units_Sold'})\n",
    "\n",
    "# Show the top 5 results.\n",
    "top_5_results = pivot_df.nlargest(5, 'Womens_Footwear_Units_Sold')\n",
    "print(top_5_results)"
   ]
  },
  {
   "cell_type": "markdown",
   "metadata": {},
   "source": [
    "### 6. Determine the Day with the Most Women's Athletic Footwear Sales"
   ]
  },
  {
   "cell_type": "code",
   "execution_count": 21,
   "metadata": {},
   "outputs": [
    {
     "name": "stdout",
     "output_type": "stream",
     "text": [
      "              Total Sales\n",
      "invoice_date             \n",
      "2021-07-16        1521825\n",
      "2021-12-16        1473497\n",
      "2021-06-17        1376988\n",
      "2021-08-17        1086294\n",
      "2021-07-23        1021806\n",
      "2021-11-17        1021145\n",
      "2021-12-09         915011\n",
      "2021-06-24         884238\n",
      "2021-07-09         869054\n",
      "2021-08-10         839120\n"
     ]
    }
   ],
   "source": [
    "# Create a pivot table with the 'invoice_date' column is the index, and the \"total_sales\" as the values.\n",
    "womens_athletic_footwear_sales.loc[:, 'invoice_date'] = pd.to_datetime(womens_athletic_footwear_sales['invoice_date'])\n",
    "pivot_df = pd.pivot_table(womens_athletic_footwear_sales, \n",
    "                          values='total_sales', \n",
    "                          index='invoice_date', \n",
    "                          aggfunc='sum')\n",
    "\n",
    "\n",
    "\n",
    "# Optional: Rename the \"total_sales\" column to \"Total Sales\"\n",
    "pivot_df = pivot_df.rename(columns={'total_sales': 'Total Sales'})\n",
    "\n",
    "# Show the table.\n",
    "top_10_sales = pivot_df.sort_values(by='Total Sales', ascending=False).head(10)\n",
    "print(top_10_sales)"
   ]
  },
  {
   "cell_type": "code",
   "execution_count": 22,
   "metadata": {},
   "outputs": [
    {
     "name": "stdout",
     "output_type": "stream",
     "text": [
      "              Total Sales\n",
      "invoice_date             \n",
      "2021-07-16        1521825\n",
      "2021-12-16        1473497\n",
      "2021-06-17        1376988\n",
      "2021-08-17        1086294\n",
      "2021-07-23        1021806\n",
      "2021-11-17        1021145\n",
      "2021-12-09         915011\n",
      "2021-06-24         884238\n",
      "2021-07-09         869054\n",
      "2021-08-10         839120\n"
     ]
    }
   ],
   "source": [
    "# Resample the pivot table into daily bins, and get the total sales for each day.\n",
    "daily_sales = pivot_df.resample('D').sum()\n",
    "\n",
    "# Sort the resampled pivot table in descending order on \"Total Sales\".\n",
    "daily_sales = daily_sales.rename(columns={'total_sales': 'Total Sales'})\n",
    "top_10_days = daily_sales.sort_values(by='Total Sales', ascending=False).head(10)\n",
    "print(top_10_days)"
   ]
  },
  {
   "cell_type": "markdown",
   "metadata": {},
   "source": [
    "### 7.  Determine the Week with the Most Women's Athletic Footwear Sales"
   ]
  },
  {
   "cell_type": "code",
   "execution_count": 23,
   "metadata": {},
   "outputs": [
    {
     "name": "stdout",
     "output_type": "stream",
     "text": [
      "              Total Sales\n",
      "invoice_date             \n",
      "2021-12-19        3098970\n",
      "2021-12-12        2922161\n",
      "2021-07-11        2835078\n",
      "2021-07-18        2801449\n",
      "2021-11-14        2531721\n",
      "2021-08-22        2491259\n",
      "2021-08-15        2463941\n",
      "2021-11-21        2449537\n",
      "2021-05-16        2422132\n",
      "2021-06-13        2358602\n"
     ]
    }
   ],
   "source": [
    "# Resample the pivot table into weekly bins, and get the total sales for each week.\n",
    "weekly_sales = pivot_df.resample('W').sum()\n",
    "\n",
    "# Sort the resampled pivot table in descending order on \"Total Sales\".\n",
    "weekly_sales = weekly_sales.rename(columns={'total_sales': 'Total Sales'})\n",
    "weekly_sales_sorted = weekly_sales.sort_values(by='Total Sales', ascending=False)\n",
    "top_10_weeks = weekly_sales_sorted.head(10)\n",
    "print(top_10_weeks)"
   ]
  },
  {
   "cell_type": "code",
   "execution_count": null,
   "metadata": {},
   "outputs": [],
   "source": []
  }
 ],
 "metadata": {
  "kernelspec": {
   "display_name": "Python 3 (ipykernel)",
   "language": "python",
   "name": "python3"
  },
  "language_info": {
   "codemirror_mode": {
    "name": "ipython",
    "version": 3
   },
   "file_extension": ".py",
   "mimetype": "text/x-python",
   "name": "python",
   "nbconvert_exporter": "python",
   "pygments_lexer": "ipython3",
   "version": "3.10.14"
  }
 },
 "nbformat": 4,
 "nbformat_minor": 4
}
